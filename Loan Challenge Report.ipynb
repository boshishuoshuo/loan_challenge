{
 "cells": [
  {
   "cell_type": "markdown",
   "metadata": {},
   "source": [
    "# Loan Challenge Report"
   ]
  },
  {
   "cell_type": "markdown",
   "metadata": {},
   "source": [
    "*Yan Feng*"
   ]
  },
  {
   "cell_type": "markdown",
   "metadata": {},
   "source": [
    "March 17th, 2019"
   ]
  },
  {
   "cell_type": "markdown",
   "metadata": {},
   "source": [
    "## Loan challenge problem description"
   ]
  },
  {
   "cell_type": "markdown",
   "metadata": {},
   "source": [
    "Banks are always seeking improved models to predict the loan. Data science and machine learning play an important role in this field. There are 2 data sets given to solve this problem. One is a table on the loan information containing 5 variables. The other is a table on the borrower information containing 12 variables."
   ]
  },
  {
   "cell_type": "markdown",
   "metadata": {},
   "source": [
    "The challenge is that based on the available information, 1. whether a loan should be granted; 2. if a loan is granted, whether the loan is repaid."
   ]
  },
  {
   "cell_type": "markdown",
   "metadata": {},
   "source": [
    "## Report Summary"
   ]
  },
  {
   "cell_type": "markdown",
   "metadata": {},
   "source": [
    "1. The features of the raw data contain redundantnand unuseful information, and some features have NA values. The raw data was cleaned and the NA values were properly patched. There are 8 features selected for the latter model training. Some features are from original data, while others are newly formed based on the raw data.\n",
    "\n",
    "2. The loan challenge was modeled into a multi-class classification problem. Two models, tree and random forest, were used to model the data set. \n",
    "\n",
    "3. To save time, 10% of the observations were used. When fitting the model, 75% of the data was used as training set, while 25% was used as testing set.\n",
    "\n",
    "4. After model tuning, both models, tree and random forest, gave 73% - 74% accuracy for training and testing.\n",
    "\n",
    "5. Among all selected features, yearly salary, saving amount, checking amount, and average use of the borrowers last year credit card limit are the 4 most important features. Whether the borrower is employed is contained in the feature of yearly salary with value of 0.\n",
    "\n",
    "6. There are other information that can be used for fitting the model, for example, loan amount, debt to income ratio, original interest rate, current interest rate, loan term, etc.\n",
    "\n",
    "7. Simpler tree model was used to develop a web application to predict whether loan is granted and whether granted loan is repaid. The application is deployed to shinyapps.io. [loan_challenge](https://boshishuoshuo.shinyapps.io/loan_challenge/)\n",
    "\n",
    "8. The report is available in ipynb and pdf, and [online](  ).\n",
    "\n",
    "9. The problem was solved with R 3.5.3, and the OS is Windows 10."
   ]
  },
  {
   "cell_type": "markdown",
   "metadata": {},
   "source": [
    "## Technical Details"
   ]
  },
  {
   "cell_type": "markdown",
   "metadata": {},
   "source": [
    "### Outline"
   ]
  },
  {
   "cell_type": "markdown",
   "metadata": {},
   "source": [
    "#### 1. Data import\n",
    "#### 2. Data cleaning and feature extraction\n",
    "#### 3. Model fitting and tuning\n",
    "#### 4. Conclusions"
   ]
  },
  {
   "cell_type": "markdown",
   "metadata": {},
   "source": [
    "#### 1. *Data import*"
   ]
  },
  {
   "cell_type": "markdown",
   "metadata": {},
   "source": [
    "Download \"loan_challenge.zip\" file and put it in the working directory. Unzip the file and obtain 2 csv files in the working directory."
   ]
  },
  {
   "cell_type": "code",
   "execution_count": 6,
   "metadata": {},
   "outputs": [],
   "source": [
    "unzip(\"loan_challenge.zip\")\n",
    "unzip(\"loan_challenge/loan_challenge_data.zip\")"
   ]
  },
  {
   "cell_type": "markdown",
   "metadata": {},
   "source": [
    "Import the 2 csv files as data frames."
   ]
  },
  {
   "cell_type": "code",
   "execution_count": 7,
   "metadata": {},
   "outputs": [],
   "source": [
    "loan <- read.csv(\"loan_table.csv\")\n",
    "borrower <- read.csv(\"borrower_table.csv\")"
   ]
  },
  {
   "cell_type": "markdown",
   "metadata": {},
   "source": [
    "Quickly examine the 2 data frames."
   ]
  },
  {
   "cell_type": "code",
   "execution_count": 9,
   "metadata": {},
   "outputs": [
    {
     "name": "stdout",
     "output_type": "stream",
     "text": [
      "'data.frame':\t101100 obs. of  5 variables:\n",
      " $ loan_id     : int  19454 496811 929493 580653 172419 77085 780070 303138 91475 422392 ...\n",
      " $ loan_purpose: Factor w/ 5 levels \"business\",\"emergency_funds\",..: 4 4 5 5 1 5 1 2 4 1 ...\n",
      " $ date        : Factor w/ 260 levels \"2012-01-02\",\"2012-01-03\",..: 54 12 29 128 101 175 53 175 105 214 ...\n",
      " $ loan_granted: int  0 0 0 1 1 0 1 1 1 0 ...\n",
      " $ loan_repaid : int  NA NA NA 1 0 NA 1 0 1 NA ...\n",
      "'data.frame':\t101100 obs. of  12 variables:\n",
      " $ loan_id                                        : int  289774 482590 135565 207797 828078 423171 568977 200139 991294 875332 ...\n",
      " $ is_first_loan                                  : int  1 0 1 0 0 1 1 1 0 0 ...\n",
      " $ fully_repaid_previous_loans                    : int  NA 1 NA 1 0 NA NA NA 1 1 ...\n",
      " $ currently_repaying_other_loans                 : int  NA 0 NA 0 0 NA NA NA 0 0 ...\n",
      " $ total_credit_card_limit                        : int  8000 4500 6900 1200 6900 6100 600 4000 7000 4300 ...\n",
      " $ avg_percentage_credit_card_limit_used_last_year: num  0.49 1.03 0.82 0.82 0.8 0.53 0.89 0.57 0.52 0.83 ...\n",
      " $ saving_amount                                  : int  3285 636 2085 358 2138 6163 305 602 2575 722 ...\n",
      " $ checking_amount                                : int  1073 5299 3422 3388 4282 5298 1456 2757 2917 892 ...\n",
      " $ is_employed                                    : int  0 1 1 0 1 1 0 1 1 1 ...\n",
      " $ yearly_salary                                  : int  0 13500 24500 0 18100 29500 0 31700 58900 5400 ...\n",
      " $ age                                            : int  47 33 38 24 36 24 50 36 33 32 ...\n",
      " $ dependent_number                               : int  3 1 8 1 1 1 2 8 3 7 ...\n"
     ]
    }
   ],
   "source": [
    "str(loan)\n",
    "str(borrower)"
   ]
  },
  {
   "cell_type": "markdown",
   "metadata": {},
   "source": [
    "\"loan_id\" is the common column between these 2 data frames, check whether they are identical."
   ]
  },
  {
   "cell_type": "code",
   "execution_count": 10,
   "metadata": {},
   "outputs": [
    {
     "data": {
      "text/html": [
       "TRUE"
      ],
      "text/latex": [
       "TRUE"
      ],
      "text/markdown": [
       "TRUE"
      ],
      "text/plain": [
       "[1] TRUE"
      ]
     },
     "metadata": {},
     "output_type": "display_data"
    }
   ],
   "source": [
    "all(sort(unique(loan$loan_id)) == sort(unique(borrower$loan_id)))"
   ]
  },
  {
   "cell_type": "markdown",
   "metadata": {},
   "source": [
    "The 2 \"loan_id\" columns are identical to each other. Combine the 2 data frames into 1 data frame."
   ]
  },
  {
   "cell_type": "code",
   "execution_count": 57,
   "metadata": {},
   "outputs": [
    {
     "name": "stderr",
     "output_type": "stream",
     "text": [
      "Joining, by = \"loan_id\"\n"
     ]
    }
   ],
   "source": [
    "suppressWarnings(library(tidyverse))\n",
    "loan_1 <- full_join(loan, borrower)"
   ]
  },
  {
   "cell_type": "markdown",
   "metadata": {},
   "source": [
    "Check the newly combined dataframe. It has 16 columns which is the combination of loan and borrower data frames."
   ]
  },
  {
   "cell_type": "code",
   "execution_count": 13,
   "metadata": {
    "scrolled": true
   },
   "outputs": [
    {
     "data": {
      "text/html": [
       "<ol class=list-inline>\n",
       "\t<li>101100</li>\n",
       "\t<li>16</li>\n",
       "</ol>\n"
      ],
      "text/latex": [
       "\\begin{enumerate*}\n",
       "\\item 101100\n",
       "\\item 16\n",
       "\\end{enumerate*}\n"
      ],
      "text/markdown": [
       "1. 101100\n",
       "2. 16\n",
       "\n",
       "\n"
      ],
      "text/plain": [
       "[1] 101100     16"
      ]
     },
     "metadata": {},
     "output_type": "display_data"
    }
   ],
   "source": [
    "dim(loan_1)"
   ]
  },
  {
   "cell_type": "markdown",
   "metadata": {},
   "source": [
    "Save the raw dataframe."
   ]
  },
  {
   "cell_type": "code",
   "execution_count": null,
   "metadata": {},
   "outputs": [],
   "source": [
    "save(loan_1, file = \"loan_1.Rda\")"
   ]
  },
  {
   "cell_type": "markdown",
   "metadata": {},
   "source": [
    "#### 2. *Data cleaning and feature extraction*"
   ]
  },
  {
   "cell_type": "markdown",
   "metadata": {},
   "source": [
    "Create a new variable \"loan_status\" that will combine loan_granted and loan_repaid. 0 means loan not granted, 1 means loan granted and repaid, -1 means loan granted but not repaid.\n",
    "\n",
    "loan_status will be the response variable, and loan_granted and loan_repaid will be dropped."
   ]
  },
  {
   "cell_type": "code",
   "execution_count": 14,
   "metadata": {},
   "outputs": [],
   "source": [
    "loan_1 <- loan_1 %>% mutate(loan_status = ifelse(loan_granted == 0, 0, \n",
    "                                                   ifelse(loan_repaid == 1, 1, -1)))"
   ]
  },
  {
   "cell_type": "markdown",
   "metadata": {},
   "source": [
    "loan_id is the identical number for a loan. It does not provide any useful information, so it will be dropped.\n",
    "\n",
    "Check the loan_purpose variable, the proportion of loan_status varies among loan_purpose, so loan_purpose will be selected."
   ]
  },
  {
   "cell_type": "code",
   "execution_count": 15,
   "metadata": {},
   "outputs": [
    {
     "data": {},
     "metadata": {},
     "output_type": "display_data"
    },
    {
     "data": {
      "image/png": "[encoded data removed]",
      "text/plain": [
       "plot without title"
      ]
     },
     "metadata": {},
     "output_type": "display_data"
    }
   ],
   "source": [
    "loan_1 %>% group_by(purpose = loan_purpose, loan_status) %>% count() %>% \n",
    "  ggplot(aes(x = purpose)) + geom_bar(aes(y = n, fill = as.factor(loan_status)), stat = \"identity\", position = \"fill\") +\n",
    "  scale_fill_discrete(name = \"loan_status\")"
   ]
  },
  {
   "cell_type": "markdown",
   "metadata": {},
   "source": [
    "Check the date variable. First convert date from factor to date using lubridate package. It turns out that all loans happened in the same year. Convert date to month and plot the proportion of loan_status. From the plot the variation is very small across all months. Date variable does not contain much information, so it will be dropped."
   ]
  },
  {
   "cell_type": "code",
   "execution_count": 55,
   "metadata": {},
   "outputs": [
    {
     "data": {},
     "metadata": {},
     "output_type": "display_data"
    },
    {
     "data": {
      "image/png": "[encoded data removed]",
      "text/plain": [
       "plot without title"
      ]
     },
     "metadata": {},
     "output_type": "display_data"
    }
   ],
   "source": [
    "suppressWarnings(library(lubridate))\n",
    "loan_1$date <- ymd(loan_1$date)\n",
    "loan_1 %>% group_by(month = month(date), loan_status) %>% count() %>% \n",
    "  ggplot(aes(x = month)) + geom_bar(aes(y = n, fill = as.factor(loan_status)), stat = \"identity\",position = \"fill\") +\n",
    "  scale_fill_discrete(name = \"loan_status\")"
   ]
  },
  {
   "cell_type": "markdown",
   "metadata": {},
   "source": [
    "For the is_first_loan, fully_repaid_previous_loans, and currently_repaying_other_loans variables, the NA values in the latter 2 variables are the 1 values in the is_first_loan variable. \n",
    "\n",
    "So is_first_loan variable will be dropped, because its information is contained in the other 2 variables.\n",
    "\n",
    "The NA values in fully_repaid_previous_loans and currently_repaying_other_loans variables will be assigned a value 2 to indicate it is the first_loan."
   ]
  },
  {
   "cell_type": "code",
   "execution_count": 19,
   "metadata": {},
   "outputs": [
    {
     "data": {
      "text/plain": [
       "\n",
       "    0     1 \n",
       "46153 54947 "
      ]
     },
     "metadata": {},
     "output_type": "display_data"
    },
    {
     "data": {
      "text/plain": [
       "\n",
       "    0     1 \n",
       " 4648 41505 "
      ]
     },
     "metadata": {},
     "output_type": "display_data"
    },
    {
     "data": {
      "text/plain": [
       "\n",
       "    0     1 \n",
       "29338 16815 "
      ]
     },
     "metadata": {},
     "output_type": "display_data"
    }
   ],
   "source": [
    "table(loan_1$is_first_loan)\n",
    "table(loan_1$fully_repaid_previous_loans)\n",
    "table(loan_1$currently_repaying_other_loans)\n",
    "loan_1$fully_repaid_previous_loans[is.na(loan_1$fully_repaid_previous_loans)] <- 2\n",
    "loan_1$fully_repaid_previous_loans <- factor(loan_1$fully_repaid_previous_loans,levels = c(0, 1, 2))\n",
    "loan_1$currently_repaying_other_loans[is.na(loan_1$currently_repaying_other_loans)] <- 2\n",
    "loan_1$currently_repaying_other_loans <- factor(loan_1$currently_repaying_other_loans, levels =  c(0, 1, 2))"
   ]
  },
  {
   "cell_type": "markdown",
   "metadata": {},
   "source": [
    "For the fully_repaid_previous_loans variable, plot shows the proportions of loan_status among the 3 levels vary only a little. So it can not provide any useful information, it will be dropped."
   ]
  },
  {
   "cell_type": "code",
   "execution_count": 20,
   "metadata": {},
   "outputs": [
    {
     "data": {},
     "metadata": {},
     "output_type": "display_data"
    },
    {
     "data": {
      "image/png": "[encoded data removed]",
      "text/plain": [
       "plot without title"
      ]
     },
     "metadata": {},
     "output_type": "display_data"
    }
   ],
   "source": [
    "loan_1 %>% group_by(repaid = fully_repaid_previous_loans, loan_status) %>% count() %>% \n",
    "  ggplot(aes(x = repaid)) + geom_bar(aes(y = n, fill = as.factor(loan_status)), stat = \"identity\", position = \"fill\") +\n",
    "  scale_fill_discrete(name = \"loan_status\")"
   ]
  },
  {
   "cell_type": "markdown",
   "metadata": {},
   "source": [
    "However, currently_repaying_other_loans variable shows variations of proportions of loan_status, so it will stay."
   ]
  },
  {
   "cell_type": "code",
   "execution_count": 21,
   "metadata": {},
   "outputs": [
    {
     "data": {},
     "metadata": {},
     "output_type": "display_data"
    },
    {
     "data": {
      "image/png": "[encoded data removed]",
      "text/plain": [
       "plot without title"
      ]
     },
     "metadata": {},
     "output_type": "display_data"
    }
   ],
   "source": [
    "loan_1 %>% group_by(current = currently_repaying_other_loans, loan_status) %>% count() %>% \n",
    "  ggplot(aes(x = current)) + geom_bar(aes(y = n, fill = as.factor(loan_status)), stat = \"identity\", position = \"fill\") +\n",
    "  scale_fill_discrete(name = \"loan_status\")"
   ]
  },
  {
   "cell_type": "markdown",
   "metadata": {},
   "source": [
    "total_credit_card_limit was cut into 10 parts and to check whether it contributes to the variations of loan_status. From the plot, it clearly has a relationship with loan_status, so it will stay."
   ]
  },
  {
   "cell_type": "code",
   "execution_count": 23,
   "metadata": {},
   "outputs": [
    {
     "data": {},
     "metadata": {},
     "output_type": "display_data"
    },
    {
     "data": {
      "image/png": "[encoded data removed]",
      "text/plain": [
       "plot without title"
      ]
     },
     "metadata": {},
     "output_type": "display_data"
    }
   ],
   "source": [
    "loan_1 %>% group_by(creditlimit = cut_interval(total_credit_card_limit, 10), loan_status) %>% \n",
    "  count() %>% ggplot(aes(x = creditlimit)) + \n",
    "  geom_bar(aes(y = n, fill = as.factor(loan_status)), stat = \"identity\", position = \"fill\") +\n",
    "  scale_fill_discrete(name = \"loan_status\") + theme(axis.text.x = element_blank())"
   ]
  },
  {
   "cell_type": "markdown",
   "metadata": {},
   "source": [
    "avg_percentage_credit_card_limit_used_last_year contains many NA values. The feature explanation does not indicate what NA stands for. So I need to decide whether NAs need to be patched or removed.\n",
    "\n",
    "A plot for 2 groups of NA or not NA shows that if the avg_percentage_credit_card_limit_used_last_year variable is NA, a very large portion of loans was NOT granted. \n",
    "\n",
    "Then I check the range of avg_percentage_credit_card_limit_used_last_year, the largest value is 1.09. I assume NA strongly indicates the denial of the loan, NA is assumed to be a much larger value than 1.09.\n",
    "\n",
    "I patched the NA with 2."
   ]
  },
  {
   "cell_type": "code",
   "execution_count": 24,
   "metadata": {},
   "outputs": [
    {
     "data": {},
     "metadata": {},
     "output_type": "display_data"
    },
    {
     "data": {
      "image/png": "[encoded data removed]",
      "text/plain": [
       "plot without title"
      ]
     },
     "metadata": {},
     "output_type": "display_data"
    }
   ],
   "source": [
    "loan_1 %>% group_by(isna = is.na(avg_percentage_credit_card_limit_used_last_year), loan_status) %>% count() %>% \n",
    "  ggplot(aes(x = isna)) + geom_bar(aes(y = n, fill = as.factor(loan_status)), \n",
    "                                   stat = \"identity\", position = \"fill\") +\n",
    "  scale_fill_discrete(name = \"loan_status\")\n",
    "loan_1$avg_percentage_credit_card_limit_used_last_year[is.na(loan_1$avg_percentage_credit_card_limit_used_last_year)] <- 2"
   ]
  },
  {
   "cell_type": "markdown",
   "metadata": {},
   "source": [
    "Plots of saving and checking amount cut into 10 parts show they should be taken into account."
   ]
  },
  {
   "cell_type": "code",
   "execution_count": 26,
   "metadata": {},
   "outputs": [
    {
     "data": {},
     "metadata": {},
     "output_type": "display_data"
    },
    {
     "data": {},
     "metadata": {},
     "output_type": "display_data"
    },
    {
     "data": {
      "image/png": "[encoded data removed]",
      "text/plain": [
       "plot without title"
      ]
     },
     "metadata": {},
     "output_type": "display_data"
    },
    {
     "data": {
      "image/png": "[encoded data removed]",
      "text/plain": [
       "plot without title"
      ]
     },
     "metadata": {},
     "output_type": "display_data"
    }
   ],
   "source": [
    "loan_1 %>% group_by(saving = cut_interval(saving_amount, 10), loan_status) %>% \n",
    "  count() %>% ggplot(aes(x = saving)) + \n",
    "  geom_bar(aes(y = n, fill = as.factor(loan_status)), stat = \"identity\", position = \"fill\") +\n",
    "  scale_fill_discrete(name = \"loan_status\") + theme(axis.text.x = element_blank())\n",
    "\n",
    "loan_1 %>% group_by(checking = cut_interval(checking_amount, 10), loan_status) %>% \n",
    "  count() %>% ggplot(aes(x = checking)) + \n",
    "  geom_bar(aes(y = n, fill = as.factor(loan_status)), stat = \"identity\", position = \"fill\") +\n",
    "  scale_fill_discrete(name = \"loan_status\") + theme(axis.text.x = element_blank())"
   ]
  },
  {
   "cell_type": "markdown",
   "metadata": {},
   "source": [
    "is_employed has the same information of yearly_salary variable with whether its value equals 0, so is_employed will be dropped."
   ]
  },
  {
   "cell_type": "code",
   "execution_count": 27,
   "metadata": {},
   "outputs": [
    {
     "data": {
      "text/plain": [
       "\n",
       "    0     1 \n",
       "34508 66592 "
      ]
     },
     "metadata": {},
     "output_type": "display_data"
    },
    {
     "data": {
      "text/plain": [
       "\n",
       " TRUE \n",
       "34508 "
      ]
     },
     "metadata": {},
     "output_type": "display_data"
    }
   ],
   "source": [
    "table(loan_1$is_employed)\n",
    "table(loan_1$yearly_salary[!loan_1$is_employed] == 0)"
   ]
  },
  {
   "cell_type": "markdown",
   "metadata": {},
   "source": [
    "yearly_salary is cut into 10 groups, and the plot clearly shows the effect. yearly_salary will stay."
   ]
  },
  {
   "cell_type": "code",
   "execution_count": 29,
   "metadata": {},
   "outputs": [
    {
     "data": {},
     "metadata": {},
     "output_type": "display_data"
    },
    {
     "data": {
      "image/png": "[encoded data removed]",
      "text/plain": [
       "plot without title"
      ]
     },
     "metadata": {},
     "output_type": "display_data"
    }
   ],
   "source": [
    "loan_1 %>% group_by(salary = cut_interval(yearly_salary, 10), loan_status) %>% \n",
    "  count() %>% ggplot(aes(x = salary)) + \n",
    "  geom_bar(aes(y = n, fill = as.factor(loan_status)), stat = \"identity\", position = \"fill\") +\n",
    "  scale_fill_discrete(name = \"loan_status\") + theme(axis.text.x = element_blank())"
   ]
  },
  {
   "cell_type": "markdown",
   "metadata": {},
   "source": [
    "age is cut into 10 groups, but the proportions of loan_status are very constant across age groups. age will be dropped."
   ]
  },
  {
   "cell_type": "code",
   "execution_count": 31,
   "metadata": {},
   "outputs": [
    {
     "data": {},
     "metadata": {},
     "output_type": "display_data"
    },
    {
     "data": {
      "image/png": "[encoded data removed]",
      "text/plain": [
       "plot without title"
      ]
     },
     "metadata": {},
     "output_type": "display_data"
    }
   ],
   "source": [
    "loan_1 %>% group_by(age = cut_interval(age, 10), loan_status) %>% \n",
    "  count() %>% ggplot(aes(x = age)) + \n",
    "  geom_bar(aes(y = n, fill = as.factor(loan_status)), stat = \"identity\", position = \"fill\") +\n",
    "  scale_fill_discrete(name = \"loan_status\") + theme(axis.text.x = element_blank())"
   ]
  },
  {
   "cell_type": "markdown",
   "metadata": {},
   "source": [
    "dependent_number shows loan_status changes with different numbers of dependents. So dependent_number will be kept."
   ]
  },
  {
   "cell_type": "code",
   "execution_count": 32,
   "metadata": {},
   "outputs": [
    {
     "data": {},
     "metadata": {},
     "output_type": "display_data"
    },
    {
     "data": {
      "image/png": "[encoded data removed]",
      "text/plain": [
       "plot without title"
      ]
     },
     "metadata": {},
     "output_type": "display_data"
    }
   ],
   "source": [
    "loan_1 %>% group_by(dependent = dependent_number, loan_status) %>% \n",
    "  count() %>% ggplot(aes(x = dependent)) + \n",
    "  geom_bar(aes(y = n, fill = as.factor(loan_status)), stat = \"identity\", position = \"fill\") +\n",
    "  scale_fill_discrete(name = \"loan_status\")"
   ]
  },
  {
   "cell_type": "markdown",
   "metadata": {},
   "source": [
    "In sum, 8 variables: loan_purpose, currently_repaying_other_loans,  total_credit_card_limit, avg_percentage_credit_card_limit_used_last_year,saving_amount,checking_amount,yearly_salary,dependent_number were selected as explanary variables.\n",
    "\n",
    "loan_status is the response variable."
   ]
  },
  {
   "cell_type": "code",
   "execution_count": 33,
   "metadata": {},
   "outputs": [
    {
     "name": "stdout",
     "output_type": "stream",
     "text": [
      "'data.frame':\t101100 obs. of  9 variables:\n",
      " $ loan_purpose                                   : Factor w/ 5 levels \"business\",\"emergency_funds\",..: 4 4 5 5 1 5 1 2 4 1 ...\n",
      " $ currently_repaying_other_loans                 : Factor w/ 3 levels \"0\",\"1\",\"2\": 3 3 3 1 3 3 1 2 1 2 ...\n",
      " $ total_credit_card_limit                        : int  8600 5300 0 5400 2900 3000 7800 4300 3900 1000 ...\n",
      " $ avg_percentage_credit_card_limit_used_last_year: num  0.79 0.52 2 0.52 0.76 0.82 0.3 1.02 0.65 1.09 ...\n",
      " $ saving_amount                                  : int  1491 141 660 3345 1050 1028 4206 886 1837 134 ...\n",
      " $ checking_amount                                : int  6285 5793 3232 2764 3695 3269 4368 1597 3795 1408 ...\n",
      " $ yearly_salary                                  : int  45200 0 26500 15800 34800 0 51100 15000 12000 0 ...\n",
      " $ dependent_number                               : int  7 5 4 4 4 3 2 2 1 2 ...\n",
      " $ loan_status                                    : num  0 0 0 1 -1 0 1 -1 1 0 ...\n"
     ]
    }
   ],
   "source": [
    "loan_2 <- loan_1 %>% select(loan_purpose, currently_repaying_other_loans,\n",
    "                            total_credit_card_limit, \n",
    "                            avg_percentage_credit_card_limit_used_last_year,\n",
    "                            saving_amount,\n",
    "                            checking_amount,\n",
    "                            yearly_salary,\n",
    "                            dependent_number,\n",
    "                            loan_status)\n",
    "str(loan_2)"
   ]
  },
  {
   "cell_type": "markdown",
   "metadata": {},
   "source": [
    "Save the loan_2 data frame."
   ]
  },
  {
   "cell_type": "code",
   "execution_count": null,
   "metadata": {},
   "outputs": [],
   "source": [
    "save(loan_2, file = \"loan_2.Rda\")"
   ]
  },
  {
   "cell_type": "markdown",
   "metadata": {},
   "source": [
    "Check the numeric variables to see whether they linearly correlated to each other. total_credit_card_limit and avg_percentage_credit_card_limit_used_last_year showed a negative correlation of -0.49, saveing_amount and checking_amount showed a positive correlation of 0.2. They are both in the acceptable range. So all variables will be kept."
   ]
  },
  {
   "cell_type": "code",
   "execution_count": 54,
   "metadata": {},
   "outputs": [
    {
     "data": {
      "text/html": [
       "<table>\n",
       "<thead><tr><th></th><th scope=col>total_credit_card_limit</th><th scope=col>avg_percentage_credit_card_limit_used_last_year</th><th scope=col>saving_amount</th><th scope=col>checking_amount</th><th scope=col>yearly_salary</th></tr></thead>\n",
       "<tbody>\n",
       "\t<tr><th scope=row>total_credit_card_limit</th><td> 1.0000000</td><td>-0.4990971</td><td> 0.2341807</td><td> 0.2409263</td><td> 0.2224966</td></tr>\n",
       "\t<tr><th scope=row>avg_percentage_credit_card_limit_used_last_year</th><td>-0.4990971</td><td> 1.0000000</td><td>-0.1435317</td><td>-0.1467987</td><td>-0.1364382</td></tr>\n",
       "\t<tr><th scope=row>saving_amount</th><td> 0.2341807</td><td>-0.1435317</td><td> 1.0000000</td><td> 0.3010412</td><td> 0.2887115</td></tr>\n",
       "\t<tr><th scope=row>checking_amount</th><td> 0.2409263</td><td>-0.1467987</td><td> 0.3010412</td><td> 1.0000000</td><td> 0.2829085</td></tr>\n",
       "\t<tr><th scope=row>yearly_salary</th><td> 0.2224966</td><td>-0.1364382</td><td> 0.2887115</td><td> 0.2829085</td><td> 1.0000000</td></tr>\n",
       "</tbody>\n",
       "</table>\n"
      ],
      "text/latex": [
       "\\begin{tabular}{r|lllll}\n",
       "  & total\\_credit\\_card\\_limit & avg\\_percentage\\_credit\\_card\\_limit\\_used\\_last\\_year & saving\\_amount & checking\\_amount & yearly\\_salary\\\\\n",
       "\\hline\n",
       "\ttotal\\_credit\\_card\\_limit &  1.0000000 & -0.4990971 &  0.2341807 &  0.2409263 &  0.2224966\\\\\n",
       "\tavg\\_percentage\\_credit\\_card\\_limit\\_used\\_last\\_year & -0.4990971 &  1.0000000 & -0.1435317 & -0.1467987 & -0.1364382\\\\\n",
       "\tsaving\\_amount &  0.2341807 & -0.1435317 &  1.0000000 &  0.3010412 &  0.2887115\\\\\n",
       "\tchecking\\_amount &  0.2409263 & -0.1467987 &  0.3010412 &  1.0000000 &  0.2829085\\\\\n",
       "\tyearly\\_salary &  0.2224966 & -0.1364382 &  0.2887115 &  0.2829085 &  1.0000000\\\\\n",
       "\\end{tabular}\n"
      ],
      "text/markdown": [
       "\n",
       "| <!--/--> | total_credit_card_limit | avg_percentage_credit_card_limit_used_last_year | saving_amount | checking_amount | yearly_salary | \n",
       "|---|---|---|---|---|\n",
       "| total_credit_card_limit |  1.0000000 | -0.4990971 |  0.2341807 |  0.2409263 |  0.2224966 | \n",
       "| avg_percentage_credit_card_limit_used_last_year | -0.4990971 |  1.0000000 | -0.1435317 | -0.1467987 | -0.1364382 | \n",
       "| saving_amount |  0.2341807 | -0.1435317 |  1.0000000 |  0.3010412 |  0.2887115 | \n",
       "| checking_amount |  0.2409263 | -0.1467987 |  0.3010412 |  1.0000000 |  0.2829085 | \n",
       "| yearly_salary |  0.2224966 | -0.1364382 |  0.2887115 |  0.2829085 |  1.0000000 | \n",
       "\n",
       "\n"
      ],
      "text/plain": [
       "                                                total_credit_card_limit\n",
       "total_credit_card_limit                          1.0000000             \n",
       "avg_percentage_credit_card_limit_used_last_year -0.4990971             \n",
       "saving_amount                                    0.2341807             \n",
       "checking_amount                                  0.2409263             \n",
       "yearly_salary                                    0.2224966             \n",
       "                                                avg_percentage_credit_card_limit_used_last_year\n",
       "total_credit_card_limit                         -0.4990971                                     \n",
       "avg_percentage_credit_card_limit_used_last_year  1.0000000                                     \n",
       "saving_amount                                   -0.1435317                                     \n",
       "checking_amount                                 -0.1467987                                     \n",
       "yearly_salary                                   -0.1364382                                     \n",
       "                                                saving_amount checking_amount\n",
       "total_credit_card_limit                          0.2341807     0.2409263     \n",
       "avg_percentage_credit_card_limit_used_last_year -0.1435317    -0.1467987     \n",
       "saving_amount                                    1.0000000     0.3010412     \n",
       "checking_amount                                  0.3010412     1.0000000     \n",
       "yearly_salary                                    0.2887115     0.2829085     \n",
       "                                                yearly_salary\n",
       "total_credit_card_limit                          0.2224966   \n",
       "avg_percentage_credit_card_limit_used_last_year -0.1364382   \n",
       "saving_amount                                    0.2887115   \n",
       "checking_amount                                  0.2829085   \n",
       "yearly_salary                                    1.0000000   "
      ]
     },
     "metadata": {},
     "output_type": "display_data"
    },
    {
     "data": {
      "image/png": "[encoded data removed]",
      "text/plain": [
       "plot without title"
      ]
     },
     "metadata": {},
     "output_type": "display_data"
    }
   ],
   "source": [
    "suppressWarnings(library(corrgram))\n",
    "corrgram(loan_2[, c(3:7)])\n",
    "cor(loan_2[, c(3:7)])"
   ]
  },
  {
   "cell_type": "markdown",
   "metadata": {},
   "source": [
    "#### 3. *Model fitting and tuning*"
   ]
  },
  {
   "cell_type": "markdown",
   "metadata": {},
   "source": [
    "To save time, 10% of the data was used. "
   ]
  },
  {
   "cell_type": "code",
   "execution_count": 35,
   "metadata": {},
   "outputs": [],
   "source": [
    "small_sample <- sample(1:dim(loan_2)[1], dim(loan_2)[1] * 0.1)\n",
    "loan_3 <- loan_2[small_sample,]"
   ]
  },
  {
   "cell_type": "markdown",
   "metadata": {},
   "source": [
    "Make loan_status vriable into a factor variable."
   ]
  },
  {
   "cell_type": "code",
   "execution_count": 59,
   "metadata": {},
   "outputs": [],
   "source": [
    "loan_3$loan_status <- factor(loan_3$loan_status, levels = c(-1, 0, 1))"
   ]
  },
  {
   "cell_type": "markdown",
   "metadata": {},
   "source": [
    "Save the loan_3 data frame."
   ]
  },
  {
   "cell_type": "code",
   "execution_count": null,
   "metadata": {},
   "outputs": [],
   "source": [
    "save(loan_3, file = \"loan_3.Rda\")"
   ]
  },
  {
   "cell_type": "markdown",
   "metadata": {},
   "source": [
    "The data frame loan_3 was divided into train and test sets in 75% to 25% ratio."
   ]
  },
  {
   "cell_type": "code",
   "execution_count": 61,
   "metadata": {},
   "outputs": [],
   "source": [
    "suppressWarnings(library(caret))\n",
    "train_index <- createDataPartition(loan_3$loan_status, p = 0.75, list = F)\n",
    "loan_3_train <- loan_3[train_index,]\n",
    "loan_3_test <- loan_3[-train_index,]"
   ]
  },
  {
   "cell_type": "markdown",
   "metadata": {},
   "source": [
    "This is a multi-class classification problem, tree and random forest models will be used.\n",
    "\n",
    "* ***Fit tree model***"
   ]
  },
  {
   "cell_type": "code",
   "execution_count": 52,
   "metadata": {},
   "outputs": [],
   "source": [
    "suppressWarnings(library(rpart))\n",
    "model_tree <- rpart(loan_status ~ ., data = loan_3_train, method = \"class\")\n",
    "pred_tree_test <- predict(model_tree, newdata = loan_3_test, type = \"class\")\n",
    "pred_tree_train <- predict(model_tree, type = \"class\")"
   ]
  },
  {
   "cell_type": "markdown",
   "metadata": {},
   "source": [
    "Make 2 functions to calculate train and test accuracy."
   ]
  },
  {
   "cell_type": "code",
   "execution_count": 38,
   "metadata": {},
   "outputs": [],
   "source": [
    "accuracy.train <- function(x) {\n",
    "  t <- table(loan_3_train$loan_status, x)\n",
    "  sum(diag(t)) / sum(t)\n",
    "}\n",
    "\n",
    "accuracy.test <- function(x) {\n",
    "  t <- table(loan_3_test$loan_status, x)\n",
    "  sum(diag(t)) / sum(t)\n",
    "}"
   ]
  },
  {
   "cell_type": "markdown",
   "metadata": {},
   "source": [
    "The accuracy for train set is 73.0%, and the accuracy for test is 73.6%."
   ]
  },
  {
   "cell_type": "code",
   "execution_count": 39,
   "metadata": {},
   "outputs": [
    {
     "data": {
      "text/html": [
       "0.735946159936659"
      ],
      "text/latex": [
       "0.735946159936659"
      ],
      "text/markdown": [
       "0.735946159936659"
      ],
      "text/plain": [
       "[1] 0.7359462"
      ]
     },
     "metadata": {},
     "output_type": "display_data"
    },
    {
     "data": {
      "text/html": [
       "0.72956223628692"
      ],
      "text/latex": [
       "0.72956223628692"
      ],
      "text/markdown": [
       "0.72956223628692"
      ],
      "text/plain": [
       "[1] 0.7295622"
      ]
     },
     "metadata": {},
     "output_type": "display_data"
    }
   ],
   "source": [
    "accuracy.test(pred_tree_test)\n",
    "accuracy.train(pred_tree_train)"
   ]
  },
  {
   "cell_type": "markdown",
   "metadata": {},
   "source": [
    "Plot the tree."
   ]
  },
  {
   "cell_type": "code",
   "execution_count": 51,
   "metadata": {},
   "outputs": [
    {
     "data": {
      "image/png": "[encoded data removed]",
      "text/plain": [
       "plot without title"
      ]
     },
     "metadata": {},
     "output_type": "display_data"
    }
   ],
   "source": [
    "suppressWarnings(library(rpart.plot))\n",
    "prp(model_tree)"
   ]
  },
  {
   "cell_type": "markdown",
   "metadata": {},
   "source": [
    "Variable importance, yearly_salary is the most important feature, followed by saving_amount, checking account, avg_percentage_credit_card_limit_used_last_year, total_credit_card_limit, and currently_repaying_other_loans.\n",
    "\n",
    "loan_purpose and dependent_number are not picked."
   ]
  },
  {
   "cell_type": "code",
   "execution_count": 41,
   "metadata": {},
   "outputs": [
    {
     "data": {
      "text/html": [
       "<dl class=dl-horizontal>\n",
       "\t<dt>yearly_salary</dt>\n",
       "\t\t<dd>871.513912876223</dd>\n",
       "\t<dt>saving_amount</dt>\n",
       "\t\t<dd>282.836975404563</dd>\n",
       "\t<dt>checking_amount</dt>\n",
       "\t\t<dd>281.77984462434</dd>\n",
       "\t<dt>avg_percentage_credit_card_limit_used_last_year</dt>\n",
       "\t\t<dd>269.727284622184</dd>\n",
       "\t<dt>total_credit_card_limit</dt>\n",
       "\t\t<dd>168.400312680855</dd>\n",
       "\t<dt>currently_repaying_other_loans</dt>\n",
       "\t\t<dd>13.0012463801627</dd>\n",
       "</dl>\n"
      ],
      "text/latex": [
       "\\begin{description*}\n",
       "\\item[yearly\\textbackslash{}\\_salary] 871.513912876223\n",
       "\\item[saving\\textbackslash{}\\_amount] 282.836975404563\n",
       "\\item[checking\\textbackslash{}\\_amount] 281.77984462434\n",
       "\\item[avg\\textbackslash{}\\_percentage\\textbackslash{}\\_credit\\textbackslash{}\\_card\\textbackslash{}\\_limit\\textbackslash{}\\_used\\textbackslash{}\\_last\\textbackslash{}\\_year] 269.727284622184\n",
       "\\item[total\\textbackslash{}\\_credit\\textbackslash{}\\_card\\textbackslash{}\\_limit] 168.400312680855\n",
       "\\item[currently\\textbackslash{}\\_repaying\\textbackslash{}\\_other\\textbackslash{}\\_loans] 13.0012463801627\n",
       "\\end{description*}\n"
      ],
      "text/markdown": [
       "yearly_salary\n",
       ":   871.513912876223saving_amount\n",
       ":   282.836975404563checking_amount\n",
       ":   281.77984462434avg_percentage_credit_card_limit_used_last_year\n",
       ":   269.727284622184total_credit_card_limit\n",
       ":   168.400312680855currently_repaying_other_loans\n",
       ":   13.0012463801627\n",
       "\n"
      ],
      "text/plain": [
       "                                  yearly_salary \n",
       "                                      871.51391 \n",
       "                                  saving_amount \n",
       "                                      282.83698 \n",
       "                                checking_amount \n",
       "                                      281.77984 \n",
       "avg_percentage_credit_card_limit_used_last_year \n",
       "                                      269.72728 \n",
       "                        total_credit_card_limit \n",
       "                                      168.40031 \n",
       "                 currently_repaying_other_loans \n",
       "                                       13.00125 "
      ]
     },
     "metadata": {},
     "output_type": "display_data"
    }
   ],
   "source": [
    "model_tree$variable.importance"
   ]
  },
  {
   "cell_type": "markdown",
   "metadata": {},
   "source": [
    "* *Tree model tuning*\n",
    "\n",
    "Find the cp values and try to prune the tree with different cp. The best result is cp = 0.01, the train accuracy is 73.0%, the test accuracy is 73.6%."
   ]
  },
  {
   "cell_type": "code",
   "execution_count": 45,
   "metadata": {},
   "outputs": [],
   "source": [
    "cp <- as.numeric(format(model_tree$cptable[,1], digits = 3))\n",
    "model_tree_prune <- list()\n",
    "for (i in cp) {\n",
    "  tree_prune <- prune(model_tree, cp = i)\n",
    "  key <- toString(i)\n",
    "  model_tree_prune[[key]] <- tree_prune\n",
    "}"
   ]
  },
  {
   "cell_type": "code",
   "execution_count": 49,
   "metadata": {},
   "outputs": [
    {
     "data": {},
     "metadata": {},
     "output_type": "display_data"
    },
    {
     "data": {
      "image/png": "[encoded data removed]",
      "text/plain": [
       "plot without title"
      ]
     },
     "metadata": {},
     "output_type": "display_data"
    }
   ],
   "source": [
    "library(reshape2)\n",
    "train_accuracy <- map_dbl(model_tree_prune, function(x) {\n",
    "  pred_train <- predict(x, type = \"class\")\n",
    "  accuracy.train(pred_train)\n",
    "})\n",
    "test_accuracy <- map_dbl(model_tree_prune, function(x) {\n",
    "  pred_test <- predict(x, loan_3_test,type = \"class\")\n",
    "  accuracy.test(pred_test)\n",
    "})\n",
    "model_prune_accuracy <- data.frame(train_accuracy, test_accuracy)\n",
    "model_prune_accuracy %>% mutate(cp = row.names(.)) %>% melt(id.vars = \"cp\") %>% \n",
    "  ggplot(aes(x = cp, y = value, color = variable)) + geom_point(size = 3) + \n",
    "  geom_line(aes(group = variable), size = 1) +\n",
    "  scale_color_discrete(name = \"\") + ylab(\"accuracy\")"
   ]
  },
  {
   "cell_type": "markdown",
   "metadata": {},
   "source": [
    "* ***Fit random forest model***"
   ]
  },
  {
   "cell_type": "code",
   "execution_count": 62,
   "metadata": {},
   "outputs": [
    {
     "data": {
      "text/html": [
       "0.726002109704641"
      ],
      "text/latex": [
       "0.726002109704641"
      ],
      "text/markdown": [
       "0.726002109704641"
      ],
      "text/plain": [
       "[1] 0.7260021"
      ]
     },
     "metadata": {},
     "output_type": "display_data"
    },
    {
     "data": {
      "text/html": [
       "0.737133808392716"
      ],
      "text/latex": [
       "0.737133808392716"
      ],
      "text/markdown": [
       "0.737133808392716"
      ],
      "text/plain": [
       "[1] 0.7371338"
      ]
     },
     "metadata": {},
     "output_type": "display_data"
    }
   ],
   "source": [
    "suppressWarnings(library(randomForest))\n",
    "model_rf <- randomForest(loan_status ~ ., data = loan_3_train, importance = T)\n",
    "pred_rf_train <- predict(model_rf)\n",
    "pred_rf_test <- predict(model_rf, loan_3_test)\n",
    "accuracy.train(pred_rf_train)\n",
    "accuracy.test(pred_rf_test)"
   ]
  },
  {
   "cell_type": "markdown",
   "metadata": {},
   "source": [
    "The accuracy values for train and test are 72.6% and 73.7%. It it almost the same as the tree model."
   ]
  },
  {
   "cell_type": "markdown",
   "metadata": {},
   "source": [
    "The variable importance order is yearly_salary, avg_percentage_credit_card_limit_used_last_year, saving_amount, checking_amount, total_credit_card_limit, loan_purpose, dependent_number, currently_repaying_other_loans"
   ]
  },
  {
   "cell_type": "code",
   "execution_count": 63,
   "metadata": {},
   "outputs": [
    {
     "data": {
      "text/html": [
       "<dl class=dl-horizontal>\n",
       "\t<dt>yearly_salary</dt>\n",
       "\t\t<dd>0.000533484551295427</dd>\n",
       "\t<dt>avg_percentage_credit_card_limit_used_last_year</dt>\n",
       "\t\t<dd>0.000476386527518662</dd>\n",
       "\t<dt>saving_amount</dt>\n",
       "\t\t<dd>0.000453080290851956</dd>\n",
       "\t<dt>checking_amount</dt>\n",
       "\t\t<dd>0.000437459004369157</dd>\n",
       "\t<dt>total_credit_card_limit</dt>\n",
       "\t\t<dd>0.000435794235588107</dd>\n",
       "\t<dt>loan_purpose</dt>\n",
       "\t\t<dd>0.000304364181783658</dd>\n",
       "\t<dt>dependent_number</dt>\n",
       "\t\t<dd>0.000291621939604412</dd>\n",
       "\t<dt>currently_repaying_other_loans</dt>\n",
       "\t\t<dd>0.000276347358864981</dd>\n",
       "</dl>\n"
      ],
      "text/latex": [
       "\\begin{description*}\n",
       "\\item[yearly\\textbackslash{}\\_salary] 0.000533484551295427\n",
       "\\item[avg\\textbackslash{}\\_percentage\\textbackslash{}\\_credit\\textbackslash{}\\_card\\textbackslash{}\\_limit\\textbackslash{}\\_used\\textbackslash{}\\_last\\textbackslash{}\\_year] 0.000476386527518662\n",
       "\\item[saving\\textbackslash{}\\_amount] 0.000453080290851956\n",
       "\\item[checking\\textbackslash{}\\_amount] 0.000437459004369157\n",
       "\\item[total\\textbackslash{}\\_credit\\textbackslash{}\\_card\\textbackslash{}\\_limit] 0.000435794235588107\n",
       "\\item[loan\\textbackslash{}\\_purpose] 0.000304364181783658\n",
       "\\item[dependent\\textbackslash{}\\_number] 0.000291621939604412\n",
       "\\item[currently\\textbackslash{}\\_repaying\\textbackslash{}\\_other\\textbackslash{}\\_loans] 0.000276347358864981\n",
       "\\end{description*}\n"
      ],
      "text/markdown": [
       "yearly_salary\n",
       ":   0.000533484551295427avg_percentage_credit_card_limit_used_last_year\n",
       ":   0.000476386527518662saving_amount\n",
       ":   0.000453080290851956checking_amount\n",
       ":   0.000437459004369157total_credit_card_limit\n",
       ":   0.000435794235588107loan_purpose\n",
       ":   0.000304364181783658dependent_number\n",
       ":   0.000291621939604412currently_repaying_other_loans\n",
       ":   0.000276347358864981\n",
       "\n"
      ],
      "text/plain": [
       "                                  yearly_salary \n",
       "                                   0.0005334846 \n",
       "avg_percentage_credit_card_limit_used_last_year \n",
       "                                   0.0004763865 \n",
       "                                  saving_amount \n",
       "                                   0.0004530803 \n",
       "                                checking_amount \n",
       "                                   0.0004374590 \n",
       "                        total_credit_card_limit \n",
       "                                   0.0004357942 \n",
       "                                   loan_purpose \n",
       "                                   0.0003043642 \n",
       "                               dependent_number \n",
       "                                   0.0002916219 \n",
       "                 currently_repaying_other_loans \n",
       "                                   0.0002763474 "
      ]
     },
     "metadata": {},
     "output_type": "display_data"
    }
   ],
   "source": [
    "sort(model_rf$importanceSD[,\"MeanDecreaseAccuracy\"], decreasing = T)"
   ]
  },
  {
   "cell_type": "markdown",
   "metadata": {},
   "source": [
    "* *Tune random forest model*"
   ]
  },
  {
   "cell_type": "markdown",
   "metadata": {},
   "source": [
    "Number of variables tried at each split is tuned for 1 to 4. When number of variables tried at each split is 2, the performance is best."
   ]
  },
  {
   "cell_type": "markdown",
   "metadata": {},
   "source": [
    "The train accuracy is 72.9%, the test accuracy is 73.6%."
   ]
  },
  {
   "cell_type": "code",
   "execution_count": 65,
   "metadata": {},
   "outputs": [
    {
     "data": {},
     "metadata": {},
     "output_type": "display_data"
    },
    {
     "data": {
      "image/png": "[encoded data removed]",
      "text/plain": [
       "plot without title"
      ]
     },
     "metadata": {},
     "output_type": "display_data"
    }
   ],
   "source": [
    "model_rf_mtry <- list()\n",
    "for (i in 1:4) {\n",
    "  rf_mtry <- randomForest(loan_status ~ ., mtry = i, data = loan_3_train, importance = T)\n",
    "  key <- toString(i)\n",
    "  model_rf_mtry[[key]] <- rf_mtry\n",
    "}\n",
    "rf_train_accuracy <- map_dbl(model_rf_mtry, function(x) {\n",
    "  pred_train <- predict(x)\n",
    "  accuracy.train(pred_train)\n",
    "})\n",
    "rf_test_accuracy <- map_dbl(model_rf_mtry, function(x) {\n",
    "  pred_test <- predict(x, loan_3_test,type = \"class\")\n",
    "  accuracy.test(pred_test)\n",
    "})\n",
    "model_rf_mtry_accuracy <- data.frame(rf_train_accuracy, rf_test_accuracy)\n",
    "\n",
    "model_rf_mtry_accuracy %>% mutate(mtry = row.names(.)) %>% melt(id.vars = \"mtry\") %>% \n",
    "  ggplot(aes(x = mtry, y = value, color = variable)) + geom_point(size = 5) + \n",
    "  geom_line(aes(group = variable), size = 1.5) +\n",
    "  scale_color_discrete(name = \"\") + ylab(\"accuracy\")"
   ]
  },
  {
   "cell_type": "markdown",
   "metadata": {},
   "source": [
    "mtry is set as 2, number of trees are tuned in 250, 500, 750, 1000. When number of trees is 500, test and train are both performing well.\n",
    "\n",
    "The trian accuracy is 72.6%, the test accuracy is 73.6%."
   ]
  },
  {
   "cell_type": "code",
   "execution_count": 67,
   "metadata": {},
   "outputs": [
    {
     "data": {},
     "metadata": {},
     "output_type": "display_data"
    },
    {
     "data": {
      "image/png": "[encoded data removed]",
      "text/plain": [
       "plot without title"
      ]
     },
     "metadata": {},
     "output_type": "display_data"
    }
   ],
   "source": [
    "model_rf_ntree <- list()\n",
    "\n",
    "for (ntree in c(250, 500, 750, 1000)) {\n",
    "  rf_ntree <- randomForest(loan_status ~ ., mtry = 2, ntree = ntree, data = loan_3_train, importance = T)\n",
    "  key <- toString(ntree)\n",
    "  model_rf_ntree[[key]] <- rf_ntree\n",
    "}\n",
    "\n",
    "rf_ntree_train_accuracy <- map_dbl(model_rf_ntree, function(x) {\n",
    "  pred_train <- predict(x)\n",
    "  accuracy.train(pred_train)\n",
    "})\n",
    "\n",
    "rf_ntree_test_accuracy <- map_dbl(model_rf_ntree, function(x) {\n",
    "  pred_test <- predict(x, loan_3_test,type = \"class\")\n",
    "  accuracy.test(pred_test)\n",
    "})\n",
    "\n",
    "model_rf_ntree_accuracy <- data.frame(rf_ntree_train_accuracy, rf_ntree_test_accuracy)\n",
    "model_rf_ntree_accuracy %>% mutate(ntree = row.names(.)) %>% melt(id.vars = \"ntree\") %>% \n",
    "  ggplot(aes(x = ntree, y = value, color = variable)) + geom_point(size = 3) + \n",
    "  geom_line(aes(group = variable), size = 1) +\n",
    "  scale_color_discrete(name = \"\") + ylab(\"accuracy\")"
   ]
  },
  {
   "cell_type": "markdown",
   "metadata": {},
   "source": [
    "#### 4. *Conclusions*"
   ]
  },
  {
   "cell_type": "markdown",
   "metadata": {},
   "source": [
    "1. The raw data contain much unuseful and redundant information, so the data was cleaned and some of its features were dropped. A new response variable was created as 3-class factor, together with other new explanary variables created from raw data. Some NA values are properly patched with reasonable assumptions. Finally, 8 features were determined for the next model training."
   ]
  },
  {
   "cell_type": "markdown",
   "metadata": {},
   "source": [
    "2. Two models, tree and random forest, were used to fit the data. Both gave similar train and test accuracies (73% - 74%). Since tree is simple and easy to explain, it was used to make a web application using shiny apps."
   ]
  },
  {
   "cell_type": "markdown",
   "metadata": {},
   "source": [
    "3. Both models indicate that the 4 more important features are yearly salary, saving amount, checking amount, and total credit card limit. This inference can be well understood by common sense. The yearly salary represents the borrower's capacity of gaining enough financial sources, so it is the most important featue in the loan application. Both saving and checking amounts indicate the borrower's ability of paying debts. And the total credit card limit gives insight into how much other financial institutes can trust the borrower."
   ]
  },
  {
   "cell_type": "markdown",
   "metadata": {},
   "source": [
    "4. The tree model was tuned with various cp values. When cp is 0.01, the pruned tree gave the best performance. Since the tree is not complex, unpruned tree is picked as the final model."
   ]
  },
  {
   "cell_type": "markdown",
   "metadata": {},
   "source": [
    "5. The random forest model was tuned with number of variables selected for each try and number of trees. When number of variables selected for each try is 2 and the number of trees is 500, the model performs the best."
   ]
  },
  {
   "cell_type": "markdown",
   "metadata": {},
   "source": [
    "6. This loan challenge problem contains information about the loan and the borrower. If more information is provided, the model will be improved. For example, loan amount, debt to income ratio, original interest rate, current interest rate, loan term, etc."
   ]
  }
 ],
 "metadata": {
  "kernelspec": {
   "display_name": "R",
   "language": "R",
   "name": "ir"
  },
  "language_info": {
   "codemirror_mode": "r",
   "file_extension": ".r",
   "mimetype": "text/x-r-source",
   "name": "R",
   "pygments_lexer": "r",
   "version": "3.5.1"
  }
 },
 "nbformat": 4,
 "nbformat_minor": 2
}
